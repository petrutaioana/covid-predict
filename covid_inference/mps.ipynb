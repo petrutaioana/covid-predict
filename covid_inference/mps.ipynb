{
  "nbformat": 4,
  "nbformat_minor": 0,
  "metadata": {
    "colab": {
      "name": "MPS.ipynb",
      "provenance": [],
      "collapsed_sections": [],
      "authorship_tag": "ABX9TyP0xbAb5S7/sUVO0CoX5PhS",
      "include_colab_link": true
    },
    "kernelspec": {
      "name": "python3",
      "display_name": "Python 3"
    }
  },
  "cells": [
    {
      "cell_type": "markdown",
      "metadata": {
        "id": "view-in-github",
        "colab_type": "text"
      },
      "source": [
        "<a href=\"https://colab.research.google.com/gist/petrutaioana/cbf6de31463d2b2a6cecf31684ec198a/mps.ipynb\" target=\"_parent\"><img src=\"https://colab.research.google.com/assets/colab-badge.svg\" alt=\"Open In Colab\"/></a>"
      ]
    },
    {
      "cell_type": "code",
      "metadata": {
        "id": "TZPjbpIhKsGy"
      },
      "source": [
        "# Some IPython magic\n",
        "# Put these at the top of every notebook, to get automatic reloading and inline plotting\n",
        "%reload_ext autoreload\n",
        "%autoreload 2\n",
        "\n",
        "import numpy as np\n",
        "import matplotlib.pyplot as plt\n",
        "%matplotlib inline\n",
        "\n",
        "import pandas as pd\n",
        "import seaborn as sns\n",
        "\n",
        "sns.set_theme()"
      ],
      "execution_count": 1,
      "outputs": []
    },
    {
      "cell_type": "code",
      "metadata": {
        "colab": {
          "base_uri": "https://localhost:8080/",
          "height": 365
        },
        "id": "RqLwfRuIK8o0",
        "outputId": "b887f9c0-f2f8-46c4-a854-7c2c4702b510"
      },
      "source": [
        "import re\n",
        "# varsta -> df['vârstă']\n",
        "\n",
        "sns.set(rc={'figure.figsize':(11.7,8.27)})\n",
        "\n",
        "file_name = '/content/mps.dataset.xlsx'\n",
        "df = pd.read_excel(file_name)\n",
        "\n",
        "df = df.fillna({\"vârstă\": 52})\n",
        "df[\"vârstă\"] = df[\"vârstă\"].astype(str)\n",
        "df[\"vârstă\"] = df[\"vârstă\"].str.strip()\n",
        "# L = numar de luni\n",
        "# S = numar de spatamani\n",
        "# A = numar de ani\n",
        "# O = numar de ore\n",
        "# Z = numar de zile\n",
        "# NOU NASCUT = 0 ani\n",
        "\n",
        "df['vârstă'] = df['vârstă'].str.replace(r'( Luni| LUNI| luni| LUNA| luna)', ' L')\n",
        "df['vârstă'] = df['vârstă'].str.replace(r'(Luni|LUNI|luni|LUNA|luna)', ' L')\n",
        "df['vârstă'] = df['vârstă'].str.replace(r'SAP', 'S')\n",
        "df['vârstă'] = df['vârstă'].str.replace(r'ani|ANI|AN', 'A')\n",
        "df['vârstă'] = df['vârstă'].str.replace(r'ORE|ore', 'O')\n",
        "df['vârstă'] = df['vârstă'].str.replace(r' ZILE| zi', ' Z')\n",
        "df['vârstă'] = df['vârstă'].str.replace(r'ZILE|zi', ' Z')\n",
        "df['vârstă'] = df['vârstă'].str.replace(r'NOU NASCUT', '0')\n",
        "\n",
        "def convert(age):\n",
        "  age = list(age.split(\" \"))\n",
        "  index = len(age) - 1\n",
        "  sum = 0\n",
        "  while index > 0:\n",
        "    if age[index] == 'L':\n",
        "      sum += int(age[index - 1]) / 12\n",
        "      index -= 2\n",
        "      continue\n",
        "    if age[index] == 'A':\n",
        "      sum += int(age[index - 1])\n",
        "      index -= 2\n",
        "      continue\n",
        "    if age[index] == 'S':\n",
        "      sum += int(age[index - 1]) / 52\n",
        "      index -= 2\n",
        "      continue\n",
        "    if age[index] == 'O':\n",
        "      sum += int(age[index - 1]) / 8760\n",
        "      index -= 2\n",
        "      continue\n",
        "    index -= 1\n",
        "  return str(sum)\n",
        "\n",
        "df['vârstă'] = df['vârstă'].apply(lambda x: convert(x) if ' ' in x  else x)\n",
        "\n",
        "df['vârstă'] = df['vârstă'].astype(float).astype(int)\n",
        "\n",
        "# rezultat testare\n",
        "df['rezultat testare'] = df['rezultat testare'].fillna('NECONCLUDENT')\n",
        "df['rezultat testare'] = df['rezultat testare'].replace(['NEGATIB'], 'NEGATIV')\n",
        "\n",
        "# some plot\n",
        "sns.displot(x = df['vârstă'], hue = df['rezultat testare'], kde=True)\n",
        "plt.xlim(0, 100)\n",
        "\n",
        "plt.tight_layout()\n",
        "# plt.gcf().set_size_inches(21, 14)"
      ],
      "execution_count": 2,
      "outputs": [
        {
          "output_type": "display_data",
          "data": {
            "image/png": "[encoded data removed]",
            "text/plain": [
              "<Figure size 491.225x360 with 1 Axes>"
            ]
          },
          "metadata": {
            "tags": []
          }
        }
      ]
    },
    {
      "cell_type": "code",
      "metadata": {
        "id": "IW6e7zXdylZm"
      },
      "source": [
        "# sex\n",
        "df['sex'] = df['sex'].str.replace(r'^(M|m).*$', 'M')\n",
        "df['sex'] = df['sex'].str.replace(r'^(F|f).*$', 'F')\n",
        "\n",
        "# cleanup_nums = {\"sex\":{\"M\": 0, \"F\": 1}}\n",
        "# df = df.replace(cleanup_nums)\n",
        "\n",
        "df = df.dropna(subset=['sex']) # we lost only 2 rows so it's cool\n",
        "# print(df['sex'])\n",
        "# print(len(df) - df['sex'].count()) -> we lost only 2 rows"
      ],
      "execution_count": 3,
      "outputs": []
    },
    {
      "cell_type": "code",
      "metadata": {
        "colab": {
          "base_uri": "https://localhost:8080/"
        },
        "id": "0CevwZ060CPJ",
        "outputId": "d9151ff0-bf27-4be9-8b2c-7064d0d95c22"
      },
      "source": [
        "# Some more changes to varsta, bc these asshole put 856 as an actual age...\n",
        "index_names = df[ df['vârstă'] > 100].index \n",
        "df.drop(index_names, inplace = True)\n",
        "\n",
        "print(df[['vârstă']][df['vârstă']==df['vârstă'].max()])"
      ],
      "execution_count": 4,
      "outputs": [
        {
          "output_type": "stream",
          "text": [
            "      vârstă\n",
            "1079      99\n"
          ],
          "name": "stdout"
        }
      ]
    },
    {
      "cell_type": "code",
      "metadata": {
        "colab": {
          "base_uri": "https://localhost:8080/"
        },
        "id": "5OCRLiew3Hxe",
        "outputId": "7c2bb209-2db6-4b93-d356-a798ffba3e69"
      },
      "source": [
        "# Find some gender ratio\n",
        "print(df[\"sex\"].value_counts())"
      ],
      "execution_count": 5,
      "outputs": [
        {
          "output_type": "stream",
          "text": [
            "F    3723\n",
            "M    2717\n",
            "Name: sex, dtype: int64\n"
          ],
          "name": "stdout"
        }
      ]
    },
    {
      "cell_type": "code",
      "metadata": {
        "id": "88vFObhcHdCP"
      },
      "source": [
        "# simptome declarate -> just the important ones df['fever'], df['cough'], df['diarrhea'], df['muscle_soreness']\n",
        "# print(df[\"simptome declarate\"].value_counts())\n",
        "df['simptome declarate'] = df['simptome declarate'].fillna('X')\n",
        "df[\"simptome declarate\"] = df[\"simptome declarate\"].str.strip()\n",
        "df['simptome declarate'] = df['simptome declarate'].str.replace(r'.*(ASIMPTOMATICA|ASIMPTOMATICĂ|Asimptomatica|ASIMPTOMATIC|Asimptomatic|asimptomatic|asimptomatica).*', 'X')\n",
        "df['simptome declarate'] = df['simptome declarate'].str.replace(r'(-|nu are)', 'X')\n",
        "df['simptome declarate'] = df['simptome declarate'].str.lower()\n",
        "#print(df[\"simptome declarate\"].unique())\n",
        "\n",
        "df['fever'] = df['simptome declarate'].apply(lambda x: True if 'febra' in str(x) else False)\n",
        "df['cough'] = df['simptome declarate'].apply(lambda x: True if 'tuse' in str(x) else False)\n",
        "df['diarrhea'] = df['simptome declarate'].apply(lambda x: True if 'diaree' in str(x) else False)\n",
        "df['muscle_soreness'] = df['simptome declarate'].apply(lambda x: True if 'musculare' in str(x) else False)\n",
        "\n",
        "# simptome raportate la internare -> just the important ones, a merge with the ones from above should be done\n",
        "# df['fever_internare'], df['cough_internare'], df['diarrhea_internare'], df['muscle_soreness_internare']\n",
        "df['simptome raportate la internare'] = df['simptome raportate la internare'].fillna('X')\n",
        "df[\"simptome raportate la internare\"] = df[\"simptome raportate la internare\"].str.strip()\n",
        "df[\"simptome raportate la internare\"] = df[\"simptome raportate la internare\"].str.replace(r'.*(ASIMPTOMATICA|ASIMPTOMATICĂ|Asimptomatica|ASIMPTOMATIC|Asimptomatic|asimptomatic|asimptomatica).*', 'X')\n",
        "df[\"simptome raportate la internare\"] = df[\"simptome raportate la internare\"].str.replace(r'(-|nu are)', 'X')\n",
        "df[\"simptome raportate la internare\"] = df[\"simptome raportate la internare\"].str.lower()\n",
        "\n",
        "df['fever_internare'] = df['simptome raportate la internare'].apply(lambda x: 1 if 'febra' in str(x) else 0)\n",
        "df['cough_internare'] = df['simptome raportate la internare'].apply(lambda x: 1 if 'tuse' in str(x) else 0)\n",
        "df['diarrhea_internare'] = df['simptome raportate la internare'].apply(lambda x: 1 if 'diaree' in str(x) else 0)\n",
        "df['muscle_soreness_internare'] = df['simptome raportate la internare'].apply(lambda x: 1 if 'musculare' in str(x) else 0)\n",
        "\n",
        "#sns.displot(x = df['diarrhea_internare'], hue = df['rezultat testare'], kde=True)\n",
        "\n",
        "# diagnostic și semne de internare -> TODO\n",
        "\n",
        "# instituția sursă ? drop\n",
        "df.drop('instituția sursă', 1)\n",
        "# dată debut simptome declarate ? drop\n",
        "df.drop('dată debut simptome declarate', 1)\n",
        "# dată internare ? drop\n",
        "df.drop('dată internare', 1)\n",
        "# data rezultat testare ? drop\n",
        "df.drop('data rezultat testare', 1)\n",
        "\n",
        "# istoric de calatorie -> df['travel_history']\n",
        "# print(df['istoric de călătorie'].unique())\n",
        "df['istoric de călătorie'] = df['istoric de călătorie'].fillna('none')\n",
        "df[\"istoric de călătorie\"] = df[\"istoric de călătorie\"].str.strip()\n",
        "df[\"istoric de călătorie\"] = df[\"istoric de călătorie\"].str.lower()\n",
        "df['istoric de călătorie'] = df['istoric de călătorie'].str.replace(r'(asimptomatic|ne|nu|nu e cazul|neaga|neagă|nu a calatorit|nu  este cazul|nu are|fara|0|mu|durere).*', 'none')\n",
        "df['travel_history'] = df['istoric de călătorie'].apply(lambda x: False if 'none' in str(x) else True)\n",
        "# print(df['travel_history'].value_counts())\n",
        "# print(df['istoric de călătorie'].value_counts())"
      ],
      "execution_count": 6,
      "outputs": []
    },
    {
      "cell_type": "code",
      "metadata": {
        "id": "u054Yl12_u8T"
      },
      "source": [
        "# mijloace de transport folosite -> df['travel_history_2']\n",
        "df['mijloace de transport folosite'] = df['mijloace de transport folosite'].fillna('xx')\n",
        "df[\"mijloace de transport folosite\"] = df[\"mijloace de transport folosite\"].str.strip()\n",
        "df[\"mijloace de transport folosite\"] = df[\"mijloace de transport folosite\"].str.lower()\n",
        "df['mijloace de transport folosite'] = df['mijloace de transport folosite'].str.replace(r'^nu.*', 'xx')\n",
        "df['mijloace de transport folosite'] = df['mijloace de transport folosite'].str.replace(r'^(o|0|fara|masina personala|masina|afebril, neo vezical)$', 'xx')\n",
        "df['travel_history_2'] = df['mijloace de transport folosite'].apply(lambda x: False if 'xx' in str(x) else True)\n",
        "#print(df['travel_history_2'].value_counts())\n",
        "\n",
        "\n",
        "# confirmare contact cu o persoană infectată -> df['contact']\n",
        "df['confirmare contact cu o persoană infectată'] = df['confirmare contact cu o persoană infectată'].fillna('xx')\n",
        "df[\"confirmare contact cu o persoană infectată\"] = df[\"confirmare contact cu o persoană infectată\"].str.strip()\n",
        "df[\"confirmare contact cu o persoană infectată\"] = df[\"confirmare contact cu o persoană infectată\"].str.lower()\n",
        "df['confirmare contact cu o persoană infectată'] = df['confirmare contact cu o persoană infectată'].str.replace(r'^nu.*', 'xx')\n",
        "df['confirmare contact cu o persoană infectată'] = df['confirmare contact cu o persoană infectată'].str.replace(r'^(-|o|0|fara|venita din lombardia|nou nascut din mama hiv pozitiva)$', 'xx')\n",
        "# print(df['confirmare contact cu o persoană infectată'].value_counts())\n",
        "df['contact'] = df['confirmare contact cu o persoană infectată'].apply(lambda x: False if 'xx' in str(x) else True)\n",
        "# print(df['contact'].value_counts())"
      ],
      "execution_count": 7,
      "outputs": []
    }
  ]
}